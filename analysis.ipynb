{
 "cells": [
  {
   "cell_type": "code",
   "execution_count": 35,
   "metadata": {},
   "outputs": [],
   "source": [
    "import pandas as pd\n",
    "import numpy as np"
   ]
  },
  {
   "cell_type": "code",
   "execution_count": null,
   "metadata": {},
   "outputs": [],
   "source": [
    "trips_file_default = \"trips_default.csv\"\n",
    "trips_file_sncf = \"trips_sncf.csv\"\n",
    "\n",
    "df_trips_default = pd.read_csv(trips_file_default, sep=\";\")\n",
    "df_trips_sncf = pd.read_csv(trips_file_sncf, sep=\";\")"
   ]
  },
  {
   "cell_type": "code",
   "execution_count": null,
   "metadata": {},
   "outputs": [],
   "source": [
    "print(df_trips_default.columns)"
   ]
  },
  {
   "cell_type": "code",
   "execution_count": null,
   "metadata": {},
   "outputs": [],
   "source": [
    "df_trips_sncf[\"sncf\"] = df_trips_sncf[\"first_pt_boarding_stop\"].str.lower().str.contains(\"sncf\") | df_trips_sncf[\"last_pt_egress_stop\"].str.lower().str.contains(\"sncf\")\n",
    "df_trips_sncf[\"sncf\"] = df_trips_sncf[\"sncf\"].astype(bool)\n",
    "df_trips_sncf[\"processed_mode\"] = np.where(df_trips_sncf[\"sncf\"], \"sncf\", df_trips_sncf[\"longest_distance_mode\"])\n",
    "df_trips_default[\"processed_mode\"] = df_trips_default[\"longest_distance_mode\"]"
   ]
  },
  {
   "cell_type": "markdown",
   "metadata": {},
   "source": [
    "**Parts modales sans la ligne SNCF**\n",
    "_______________"
   ]
  },
  {
   "cell_type": "code",
   "execution_count": 36,
   "metadata": {},
   "outputs": [
    {
     "name": "stdout",
     "output_type": "stream",
     "text": [
      "car              593240\n",
      "walk             241768\n",
      "pt               174270\n",
      "outside          150589\n",
      "car_passenger     83836\n",
      "bike               6357\n",
      "Name: processed_mode, dtype: int64\n"
     ]
    }
   ],
   "source": [
    "print(df_trips_default[\"processed_mode\"].value_counts())"
   ]
  },
  {
   "cell_type": "markdown",
   "metadata": {},
   "source": [
    "**Parts modales AVEC la ligne SNCF**\n",
    "_______________"
   ]
  },
  {
   "cell_type": "code",
   "execution_count": 37,
   "metadata": {},
   "outputs": [
    {
     "name": "stdout",
     "output_type": "stream",
     "text": [
      "car              593045\n",
      "walk             241630\n",
      "pt               172677\n",
      "outside          150589\n",
      "car_passenger     83836\n",
      "bike               6314\n",
      "sncf               1970\n",
      "Name: processed_mode, dtype: int64\n"
     ]
    }
   ],
   "source": [
    "print(df_trips_sncf[\"processed_mode\"].value_counts())"
   ]
  }
 ],
 "metadata": {
  "interpreter": {
   "hash": "54877655277d4eb55cab4fc06ac5f62cfa86a570683dbba06fd7ba68d5879ef1"
  },
  "kernelspec": {
   "display_name": "Python 3.7.7 64-bit ('nantes': conda)",
   "language": "python",
   "name": "python3"
  },
  "language_info": {
   "codemirror_mode": {
    "name": "ipython",
    "version": 3
   },
   "file_extension": ".py",
   "mimetype": "text/x-python",
   "name": "python",
   "nbconvert_exporter": "python",
   "pygments_lexer": "ipython3",
   "version": "3.7.7"
  },
  "orig_nbformat": 4
 },
 "nbformat": 4,
 "nbformat_minor": 2
}
